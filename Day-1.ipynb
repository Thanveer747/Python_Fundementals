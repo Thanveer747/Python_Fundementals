{
 "cells": [
  {
   "cell_type": "code",
   "execution_count": 5,
   "id": "8714264d-a51b-4777-afbd-1650002682e1",
   "metadata": {},
   "outputs": [
    {
     "name": "stdout",
     "output_type": "stream",
     "text": [
      "Hello world\n"
     ]
    }
   ],
   "source": [
    "print(\"Hello world\");"
   ]
  },
  {
   "cell_type": "code",
   "execution_count": 7,
   "id": "bbaf52d9-9a8c-472a-871c-99c64b25a1e9",
   "metadata": {},
   "outputs": [
    {
     "name": "stdout",
     "output_type": "stream",
     "text": [
      "3\n"
     ]
    }
   ],
   "source": [
    "x = 1\n",
    "y = 2\n",
    "z= x+y\n",
    "print(z)"
   ]
  },
  {
   "cell_type": "code",
   "execution_count": 13,
   "id": "3d15b052-4599-4dc4-8a6a-ab1e12be6d7b",
   "metadata": {},
   "outputs": [],
   "source": [
    "x = 2\n"
   ]
  },
  {
   "cell_type": "code",
   "execution_count": 15,
   "id": "c2f29174-9819-46c8-89a3-dd776ee6e388",
   "metadata": {},
   "outputs": [],
   "source": [
    "y = 5"
   ]
  },
  {
   "cell_type": "code",
   "execution_count": 17,
   "id": "121de7c3-1bfb-4797-aa04-fa9da35fff34",
   "metadata": {},
   "outputs": [],
   "source": [
    "z = x * y"
   ]
  },
  {
   "cell_type": "code",
   "execution_count": 19,
   "id": "e51c290a-e3fc-4928-bd12-dacf809ee321",
   "metadata": {},
   "outputs": [
    {
     "name": "stdout",
     "output_type": "stream",
     "text": [
      "10\n"
     ]
    }
   ],
   "source": [
    "print(z)"
   ]
  },
  {
   "cell_type": "code",
   "execution_count": 21,
   "id": "a71ceb1b-d5c6-4411-9147-584a60ed4114",
   "metadata": {},
   "outputs": [
    {
     "data": {
      "text/plain": [
       "int"
      ]
     },
     "execution_count": 21,
     "metadata": {},
     "output_type": "execute_result"
    }
   ],
   "source": [
    "type(x)"
   ]
  },
  {
   "cell_type": "code",
   "execution_count": 25,
   "id": "56b40cea-e13d-4b80-b386-fb881cbfb611",
   "metadata": {},
   "outputs": [],
   "source": [
    "S1 = \"Thannu\"\n"
   ]
  },
  {
   "cell_type": "code",
   "execution_count": 27,
   "id": "95862a0f-f979-4580-9fa6-02c73b27161c",
   "metadata": {},
   "outputs": [
    {
     "data": {
      "text/plain": [
       "str"
      ]
     },
     "execution_count": 27,
     "metadata": {},
     "output_type": "execute_result"
    }
   ],
   "source": [
    "type(S1)"
   ]
  },
  {
   "cell_type": "code",
   "execution_count": 39,
   "id": "1a7f395b-36be-4f14-a7e2-29ff29a905d6",
   "metadata": {},
   "outputs": [
    {
     "name": "stdout",
     "output_type": "stream",
     "text": [
      "['Thannu', 'Mujju', 'Rahamath', 'Abbas']\n"
     ]
    }
   ],
   "source": [
    "student = ['Thannu','Mujju','Rahamath','Abbas']\n",
    "print(student)"
   ]
  },
  {
   "cell_type": "code",
   "execution_count": 43,
   "id": "c2b420e8-86ae-4c77-9ffc-160d17044801",
   "metadata": {},
   "outputs": [
    {
     "data": {
      "text/plain": [
       "list"
      ]
     },
     "execution_count": 43,
     "metadata": {},
     "output_type": "execute_result"
    }
   ],
   "source": [
    "type(student)"
   ]
  },
  {
   "cell_type": "code",
   "execution_count": 51,
   "id": "29404b99-4293-4141-b23e-c7bd8c2f7dda",
   "metadata": {},
   "outputs": [],
   "source": [
    "FirstName = 'Thanveer'\n",
    "LastName = ' Ahmed'\n"
   ]
  },
  {
   "cell_type": "code",
   "execution_count": 53,
   "id": "864f6c1e-89bf-4c0b-847e-99145005f3c5",
   "metadata": {},
   "outputs": [
    {
     "name": "stdout",
     "output_type": "stream",
     "text": [
      "Thanveer Ahmed\n"
     ]
    }
   ],
   "source": [
    "FullName = F\"{FirstName}{LastName}\"\n",
    "print(FullName)\n"
   ]
  }
 ],
 "metadata": {
  "kernelspec": {
   "display_name": "Python 3 (ipykernel)",
   "language": "python",
   "name": "python3"
  },
  "language_info": {
   "codemirror_mode": {
    "name": "ipython",
    "version": 3
   },
   "file_extension": ".py",
   "mimetype": "text/x-python",
   "name": "python",
   "nbconvert_exporter": "python",
   "pygments_lexer": "ipython3",
   "version": "3.12.4"
  }
 },
 "nbformat": 4,
 "nbformat_minor": 5
}
